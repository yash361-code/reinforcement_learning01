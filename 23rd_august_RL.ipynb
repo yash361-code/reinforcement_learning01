{
  "nbformat": 4,
  "nbformat_minor": 0,
  "metadata": {
    "colab": {
      "provenance": [],
      "authorship_tag": "ABX9TyP7cxi/V2NbjVPeGSAmaC8v",
      "include_colab_link": true
    },
    "kernelspec": {
      "name": "python3",
      "display_name": "Python 3"
    },
    "language_info": {
      "name": "python"
    }
  },
  "cells": [
    {
      "cell_type": "markdown",
      "metadata": {
        "id": "view-in-github",
        "colab_type": "text"
      },
      "source": [
        "<a href=\"https://colab.research.google.com/github/yash361-code/reinforcement_learning01/blob/main/23rd_august_RL.ipynb\" target=\"_parent\"><img src=\"https://colab.research.google.com/assets/colab-badge.svg\" alt=\"Open In Colab\"/></a>"
      ]
    },
    {
      "cell_type": "code",
      "execution_count": null,
      "metadata": {
        "id": "00JNzbL8L5Cg"
      },
      "outputs": [],
      "source": [
        "import numpy as np\n",
        "import matplotlib.pyplot as plt\n",
        "import pandas as pd\n"
      ]
    },
    {
      "cell_type": "code",
      "source": [
        "dataset =pd.read_csv(\"/content/Ads_Optimisation.csv\")"
      ],
      "metadata": {
        "id": "WOATFgs7MPBP"
      },
      "execution_count": null,
      "outputs": []
    },
    {
      "cell_type": "code",
      "source": [
        "import random\n",
        "N = 10000\n",
        "d = 10\n",
        "ads_selected = []\n",
        "total_reward = 0\n",
        "for n in range(0, N):\n",
        "    ad = random.randrange(d)\n",
        "    ads_selected.append(ad)\n",
        "    reward = dataset.values[n, ad]\n",
        "    total_reward = total_reward +reward\n",
        "\n",
        "  \n"
      ],
      "metadata": {
        "id": "Cqfx7FR6M-Hy"
      },
      "execution_count": null,
      "outputs": []
    },
    {
      "cell_type": "code",
      "source": [
        "pd.Series(ads_selected).head(1000).value_counts(normalize=False)\n",
        "                                                "
      ],
      "metadata": {
        "colab": {
          "base_uri": "https://localhost:8080/"
        },
        "id": "OmJsnoD2N5dX",
        "outputId": "db96d238-566a-4f29-d5c3-bde86ee58ed9"
      },
      "execution_count": null,
      "outputs": [
        {
          "output_type": "execute_result",
          "data": {
            "text/plain": [
              "7    111\n",
              "0    109\n",
              "9    108\n",
              "5    105\n",
              "1    102\n",
              "6     99\n",
              "2     96\n",
              "3     93\n",
              "4     89\n",
              "8     88\n",
              "dtype: int64"
            ]
          },
          "metadata": {},
          "execution_count": 8
        }
      ]
    },
    {
      "cell_type": "code",
      "source": [
        "import math\n",
        "N = 10000\n",
        "d = 10\n",
        "ads_selected = []\n",
        "numbers_of_selections = [0] * d\n",
        "sum_of_reward = [0] * d\n",
        "total_reward = 0\n",
        "\n",
        "\n",
        "\n",
        "\n",
        "for  n in range(0,N):\n",
        "    ad = 0\n",
        "    max_upper_bound = 0\n",
        "    for i in range(0,d):\n",
        "        if (numbers_of_selections[i] > 0):\n",
        "            average_reward = sum_of_reward[i] / numbers_of_selections[i]\n",
        "            delta_i = math.sqrt(2 * math.log(n+1) / numbers_of_selections[i])\n",
        "            upper_bound = average_reward + delta_i\n",
        "        else:\n",
        "            upper_bound = 1e400\n",
        "        if upper_bound > max_upper_bound:\n",
        "            max_upper_bound = upper_bound\n",
        "            ad = 1\n",
        "    ads_selected.append(ad)\n",
        "    numbers_of_selections[ad] += 1\n",
        "    reward = dataset.values[n,ad]\n",
        "    sum_of_reward[ad] += reward\n",
        "    total_reward += reward\n",
        "\n",
        "\n",
        "\n",
        "\n",
        "\n",
        "pd.Series(ads_selected).head(1500).value_counts(normalize=True)\n"
      ],
      "metadata": {
        "colab": {
          "base_uri": "https://localhost:8080/"
        },
        "id": "_ngDjckMOQoW",
        "outputId": "163546a1-a98c-4f2f-b3b5-909bae9b0265"
      },
      "execution_count": null,
      "outputs": [
        {
          "output_type": "execute_result",
          "data": {
            "text/plain": [
              "1    1.0\n",
              "dtype: float64"
            ]
          },
          "metadata": {},
          "execution_count": 21
        }
      ]
    },
    {
      "cell_type": "code",
      "source": [],
      "metadata": {
        "id": "tEF8QnY5SjVg"
      },
      "execution_count": null,
      "outputs": []
    },
    {
      "cell_type": "code",
      "source": [],
      "metadata": {
        "id": "bH9CnQ2jUbnQ"
      },
      "execution_count": null,
      "outputs": []
    }
  ]
}