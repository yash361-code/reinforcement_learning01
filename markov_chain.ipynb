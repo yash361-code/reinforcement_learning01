{
  "nbformat": 4,
  "nbformat_minor": 0,
  "metadata": {
    "colab": {
      "provenance": [],
      "authorship_tag": "ABX9TyPSwkAZVYBI2yxmCObF/TU1",
      "include_colab_link": true
    },
    "kernelspec": {
      "name": "python3",
      "display_name": "Python 3"
    },
    "language_info": {
      "name": "python"
    }
  },
  "cells": [
    {
      "cell_type": "markdown",
      "metadata": {
        "id": "view-in-github",
        "colab_type": "text"
      },
      "source": [
        "<a href=\"https://colab.research.google.com/github/yash361-code/reinforcement_learning01/blob/main/markov_chain.ipynb\" target=\"_parent\"><img src=\"https://colab.research.google.com/assets/colab-badge.svg\" alt=\"Open In Colab\"/></a>"
      ]
    },
    {
      "cell_type": "code",
      "execution_count": 1,
      "metadata": {
        "id": "wUlPOPZ_NoKP"
      },
      "outputs": [],
      "source": [
        "import numpy as np\n",
        "import pandas as pd"
      ]
    },
    {
      "cell_type": "code",
      "source": [
        "states = [\"Sleep\", \"Run\", \"Ice Cream\"]\n",
        "transitionName = [[\"SS\",\"SR\",\"SI\"],[\"RS\",\"RR\",\"RI\"],[\"IS\",\"IR\",\"II\"]]\n",
        "transitionMatrix = [[0.2,0.6,0.2],[0.1,0.6,0.3],[0.2,0.7,0.1]]"
      ],
      "metadata": {
        "id": "xY0YRI2ENst3"
      },
      "execution_count": 2,
      "outputs": []
    },
    {
      "cell_type": "code",
      "source": [
        "from re import T\n",
        "def activity_forecast(days):\n",
        "  activityToday = \"Sleep\"\n",
        "  activityList = [activityToday]\n",
        "  i = 0\n",
        "  prob = 1\n",
        "  while i != days:\n",
        "    if activityToday == \"Sleep\":\n",
        "      change = np.random.choice(transitionName[0], replace=True, p=transitionMatrix[0])\n",
        "      if change == \"SS\":\n",
        "        prob *= 0.2\n",
        "        activityList.append(\"Sleep\")\n",
        "        pass\n",
        "      elif change == \"SR\":\n",
        "        prob *= 0.6\n",
        "        activityToday == \"Run\"\n",
        "        activityList.append(\"Run\")\n",
        "        pass\n",
        "      else:\n",
        "        prob *= 0.2\n",
        "        activityToday == \"Ice Cream\"\n",
        "        activityList.append(\"Ice Cream\")\n",
        "    elif activityToday == \"Run\":\n",
        "      change = np.random.choice(transitionName[1],replace=True,p=transitionMatrix[1])\n",
        "      if change == \"RR\":\n",
        "        prob = prob * 0.5\n",
        "        activityList.append(\"Run\")\n",
        "        pass\n",
        "      elif change == \"RS\":\n",
        "        prob = prob * 0.2\n",
        "        activityToday = \"Sleep\"\n",
        "        activityList.append(\"Sleep\")\n",
        "      else:\n",
        "        prob = prob * 0.3\n",
        "        activityToday = \"Icecream\"\n",
        "        activityList.append(\"Icecream\")\n",
        "    elif activityToday == \"Icecream\":\n",
        "      change = np.random.choice(transitionName[2],replace=True,p=transitionMatrix[2])\n",
        "      if change == \"II\":\n",
        "        prob = prob * 0.1\n",
        "        activityList.append(\"Icecream\")\n",
        "        pass\n",
        "      elif change == \"IS\":\n",
        "        prob = prob * 0.2\n",
        "        activityToday = \"Sleep\"\n",
        "        activityList.append(\"Sleep\")\n",
        "      else:\n",
        "        prob = prob * 0.7\n",
        "        activityToday = \"Run\"\n",
        "        activityList.append(\"Run\")\n",
        "    print(activityToday)\n",
        "    i += 1\n",
        "  print(\"Possible States: \" + str(activityList))\n",
        "  print(\"End state after: \" + str(days) + \" days: \" + activityToday)\n",
        "  print(\"Probability of the possible sequence of states: \" + str(prob))"
      ],
      "metadata": {
        "id": "nmlh-HrwNyAB"
      },
      "execution_count": 3,
      "outputs": []
    },
    {
      "cell_type": "code",
      "source": [
        "activity_forecast(10)"
      ],
      "metadata": {
        "colab": {
          "base_uri": "https://localhost:8080/"
        },
        "id": "n-4wstI7N6YD",
        "outputId": "91d767e9-7725-4543-8b50-ff8bfcf9f4e0"
      },
      "execution_count": 4,
      "outputs": [
        {
          "output_type": "stream",
          "name": "stdout",
          "text": [
            "Sleep\n",
            "Sleep\n",
            "Sleep\n",
            "Sleep\n",
            "Sleep\n",
            "Sleep\n",
            "Sleep\n",
            "Sleep\n",
            "Sleep\n",
            "Sleep\n",
            "Possible States: ['Sleep', 'Run', 'Sleep', 'Ice Cream', 'Run', 'Run', 'Run', 'Run', 'Run', 'Sleep', 'Run']\n",
            "End state after: 10 days: Sleep\n",
            "Probability of the possible sequence of states: 0.0002239488\n"
          ]
        }
      ]
    },
    {
      "cell_type": "code",
      "source": [],
      "metadata": {
        "id": "bk5aujmwOHHy"
      },
      "execution_count": null,
      "outputs": []
    }
  ]
}