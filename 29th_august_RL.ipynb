{
  "nbformat": 4,
  "nbformat_minor": 0,
  "metadata": {
    "colab": {
      "provenance": [],
      "authorship_tag": "ABX9TyOGHXoCiZkC9l4e/TQeCUyW",
      "include_colab_link": true
    },
    "kernelspec": {
      "name": "python3",
      "display_name": "Python 3"
    },
    "language_info": {
      "name": "python"
    }
  },
  "cells": [
    {
      "cell_type": "markdown",
      "metadata": {
        "id": "view-in-github",
        "colab_type": "text"
      },
      "source": [
        "<a href=\"https://colab.research.google.com/github/yash361-code/reinforcement_learning01/blob/main/29th_august_RL.ipynb\" target=\"_parent\"><img src=\"https://colab.research.google.com/assets/colab-badge.svg\" alt=\"Open In Colab\"/></a>"
      ]
    },
    {
      "cell_type": "code",
      "execution_count": null,
      "metadata": {
        "id": "_oMMsn_XpxVb"
      },
      "outputs": [],
      "source": [
        "import numpy as np\n",
        "import matplotlib.pyplot as plt\n",
        "import pandas as pd\n"
      ]
    },
    {
      "cell_type": "code",
      "source": [
        "dataset =pd.read_csv(\"/content/Ads_Optimisation.csv\")"
      ],
      "metadata": {
        "id": "MmtUoYHup5-T"
      },
      "execution_count": null,
      "outputs": []
    },
    {
      "cell_type": "code",
      "source": [
        "import random\n",
        "N = 10000\n",
        "d = 10\n",
        "ads_selected = []\n",
        "total_reward = 0\n",
        "for n in range(0, N):\n",
        "    ad = random.randrange(d)\n",
        "    ads_selected.append(ad)\n",
        "    reward = dataset.values[n, ad]\n",
        "    total_reward = total_reward +reward\n"
      ],
      "metadata": {
        "id": "S6Djzv5kwY4I"
      },
      "execution_count": null,
      "outputs": []
    },
    {
      "cell_type": "code",
      "source": [
        "import random\n",
        "N=dataset.shape[0]\n",
        "d=dataset.shape[1]\n",
        "ads_selected =[]\n",
        "number_of_rewards_1=[0]*d\n",
        "number_of_rewards_0=[0]*d\n",
        "total_reward=0\n",
        "\n",
        "for n in range(N):\n",
        "  ad=0\n",
        "  max_random_beta=0\n",
        "  for i in range(d):\n",
        "    random_beta=random.betavariate(number_of_rewards_1[i]+1,number_of_rewards_0[i]+1)\n",
        "    if random_beta>max_random_beta:\n",
        "      max_random_beta= random_beta\n",
        "      ad=i\n",
        "  ads_selected.append(ad)\n",
        "  reward=dataset.iloc[n,ad]\n",
        "  if reward==1:\n",
        "    number_of_rewards_1[ad]+=1\n",
        "  else:\n",
        "    number_of_rewards_0[ad]+=1\n",
        "  total_reward+=reward\n",
        "\n",
        "\n",
        "    \n"
      ],
      "metadata": {
        "id": "wCbtK3CWqAcj"
      },
      "execution_count": null,
      "outputs": []
    },
    {
      "cell_type": "code",
      "source": [
        "plt.hist(ads_selected)\n",
        "plt.title('Histogram of ads selection')\n",
        "plt.xlabel('Ads')\n",
        "plt.ylabel('Number of times each ad was selected by the algorithm')"
      ],
      "metadata": {
        "colab": {
          "base_uri": "https://localhost:8080/",
          "height": 329
        },
        "id": "Wz9x7uy4tgab",
        "outputId": "f0e57010-298a-4f29-ceca-7c5668e71bac"
      },
      "execution_count": null,
      "outputs": [
        {
          "output_type": "execute_result",
          "data": {
            "text/plain": [
              "Text(0, 0.5, 'Number of times each ad was selected by the algorithm')"
            ]
          },
          "metadata": {},
          "execution_count": 21
        },
        {
          "output_type": "display_data",
          "data": {
            "text/plain": [
              "<Figure size 432x288 with 1 Axes>"
            ],
            "image/png": "[encoded data removed]"
          },
          "metadata": {
            "needs_background": "light"
          }
        }
      ]
    },
    {
      "cell_type": "code",
      "source": [],
      "metadata": {
        "id": "PnDjnM1NutLt"
      },
      "execution_count": null,
      "outputs": []
    }
  ]
}